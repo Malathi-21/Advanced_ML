{
 "cells": [
  {
   "cell_type": "code",
   "execution_count": 1,
   "metadata": {},
   "outputs": [],
   "source": [
    "import pandas as pd\n",
    "from sklearn.model_selection import train_test_split\n",
    "import time\n",
    "import numpy as np\n",
    "from sklearn.preprocessing import StandardScaler\n",
    "from sklearn.feature_selection import SelectKBest\n",
    "from sklearn.feature_selection import chi2\n",
    "from sklearn.feature_selection import RFE\n",
    "from sklearn.linear_model import LogisticRegression\n",
    "import pickle\n",
    "import matplotlib.pyplot as plt\n"
   ]
  },
  {
   "cell_type": "code",
   "execution_count": 2,
   "metadata": {},
   "outputs": [],
   "source": [
    "def selectkbest(indep_X,dep_Y,n):\n",
    "        test = SelectKBest(score_func=chi2, k=n)\n",
    "        fit1= test.fit(indep_X,dep_Y)\n",
    "        selectk_features = fit1.transform(indep_X)\n",
    "        selected_columns = indep_X.columns[fit1.get_support(indices=True)]\n",
    "        return selectk_features,selected_columns\n",
    "\n",
    "def split_scalar(indep_X,dep_Y):\n",
    "        X_train, X_test, y_train, y_test = train_test_split(indep_X, dep_Y, test_size = 0.25, random_state = 0)\n",
    "        sc = StandardScaler()\n",
    "        X_train = sc.fit_transform(X_train)\n",
    "        X_test = sc.transform(X_test)    \n",
    "        return X_train, X_test, y_train, y_test\n",
    "    \n",
    "def cm_prediction(classifier,X_test):\n",
    "     y_pred = classifier.predict(X_test)\n",
    "        \n",
    "        # Making the Confusion Matrix\n",
    "     from sklearn.metrics import confusion_matrix\n",
    "     cm = confusion_matrix(y_test, y_pred)\n",
    "        \n",
    "     from sklearn.metrics import accuracy_score \n",
    "     from sklearn.metrics import classification_report\n",
    "        \n",
    "     Accuracy=accuracy_score(y_test, y_pred )\n",
    "        \n",
    "     report=classification_report(y_test, y_pred)\n",
    "     return  classifier,Accuracy,report,X_test,y_test,cm\n"
   ]
  },
  {
   "cell_type": "code",
   "execution_count": 3,
   "metadata": {},
   "outputs": [],
   "source": [
    "def logistic(X_train,y_train,X_test):       \n",
    "        # Fitting K-NN to the Training set\n",
    "        from sklearn.linear_model import LogisticRegression\n",
    "        classifier = LogisticRegression(random_state = 0)\n",
    "        classifier.fit(X_train, y_train)\n",
    "        classifier,Accuracy,report,X_test,y_test,cm=cm_prediction(classifier,X_test)\n",
    "        return  classifier,Accuracy,report,X_test,y_test,cm      \n",
    "    \n",
    "def svm_linear(X_train,y_train,X_test):\n",
    "                \n",
    "        from sklearn.svm import SVC\n",
    "        classifier = SVC(kernel = 'linear', random_state = 0)\n",
    "        classifier.fit(X_train, y_train)\n",
    "        classifier,Accuracy,report,X_test,y_test,cm=cm_prediction(classifier,X_test)\n",
    "        return  classifier,Accuracy,report,X_test,y_test,cm\n",
    "    \n",
    "def svm_NL(X_train,y_train,X_test):\n",
    "                \n",
    "        from sklearn.svm import SVC\n",
    "        classifier = SVC(kernel = 'rbf', random_state = 0)\n",
    "        classifier.fit(X_train, y_train)\n",
    "        classifier,Accuracy,report,X_test,y_test,cm=cm_prediction(classifier,X_test)\n",
    "        return  classifier,Accuracy,report,X_test,y_test,cm\n",
    "\n",
    "def Navie(X_train,y_train,X_test):       \n",
    "        # Fitting K-NN to the Training set\n",
    "        from sklearn.naive_bayes import GaussianNB\n",
    "        classifier = GaussianNB()\n",
    "        classifier.fit(X_train, y_train)\n",
    "        classifier,Accuracy,report,X_test,y_test,cm=cm_prediction(classifier,X_test)\n",
    "        return  classifier,Accuracy,report,X_test,y_test,cm         \n",
    "    \n",
    "    \n",
    "def knn(X_train,y_train,X_test):\n",
    "           \n",
    "        # Fitting K-NN to the Training set\n",
    "        from sklearn.neighbors import KNeighborsClassifier\n",
    "        classifier = KNeighborsClassifier(n_neighbors = 5, metric = 'minkowski', p = 2)\n",
    "        classifier.fit(X_train, y_train)\n",
    "        classifier,Accuracy,report,X_test,y_test,cm=cm_prediction(classifier,X_test)\n",
    "        return  classifier,Accuracy,report,X_test,y_test,cm\n",
    "\n",
    "def Decision(X_train,y_train,X_test):\n",
    "        from sklearn.tree import DecisionTreeClassifier\n",
    "        classifier = DecisionTreeClassifier(criterion = 'entropy', random_state = 0)\n",
    "        classifier.fit(X_train, y_train)\n",
    "        classifier,Accuracy,report,X_test,y_test,cm=cm_prediction(classifier,X_test)\n",
    "        return  classifier,Accuracy,report,X_test,y_test,cm      \n",
    "\n",
    "\n",
    "def random(X_train,y_train,X_test):\n",
    "        \n",
    "        # Fitting K-NN to the Training set\n",
    "        from sklearn.ensemble import RandomForestClassifier\n",
    "        classifier = RandomForestClassifier(n_estimators = 10, criterion = 'entropy', random_state = 0)\n",
    "        classifier.fit(X_train, y_train)\n",
    "        classifier,Accuracy,report,X_test,y_test,cm=cm_prediction(classifier,X_test)\n",
    "        return  classifier,Accuracy,report,X_test,y_test,cm"
   ]
  },
  {
   "cell_type": "code",
   "execution_count": 4,
   "metadata": {},
   "outputs": [],
   "source": [
    "def selectk_Classification(acclog, accsvml, accsvmnl, accknn, accnav, accdes, accrf):\n",
    "    # Initialize the DataFrame\n",
    "    dataframe = pd.DataFrame(index=['ChiSquare'], columns=['Logistic', 'SVMl', 'SVMnl', 'KNN', 'Navie', 'Decision', 'Random'])\n",
    "    \n",
    "    # Populate the DataFrame using loc\n",
    "    dataframe.loc['ChiSquare', 'Logistic'] = acclog[0]\n",
    "    dataframe.loc['ChiSquare', 'SVMl'] = accsvml[0]\n",
    "    dataframe.loc['ChiSquare', 'SVMnl'] = accsvmnl[0]\n",
    "    dataframe.loc['ChiSquare', 'KNN'] = accknn[0]\n",
    "    dataframe.loc['ChiSquare', 'Navie'] = accnav[0]\n",
    "    dataframe.loc['ChiSquare', 'Decision'] = accdes[0]\n",
    "    dataframe.loc['ChiSquare', 'Random'] = accrf[0]\n",
    "    \n",
    "    return dataframe\n"
   ]
  },
  {
   "cell_type": "code",
   "execution_count": 5,
   "metadata": {},
   "outputs": [],
   "source": [
    "dataset1=pd.read_csv(\"prep.csv\",index_col=None)\n",
    "\n",
    "df2=dataset1\n",
    "\n",
    "df2 = pd.get_dummies(df2,dtype=int,drop_first=True)\n",
    "\n",
    "indep_x=df2.drop('classification_yes', axis=1)\n",
    "dep_y=df2['classification_yes']"
   ]
  },
  {
   "cell_type": "code",
   "execution_count": null,
   "metadata": {},
   "outputs": [],
   "source": [
    "df2"
   ]
  },
  {
   "cell_type": "code",
   "execution_count": 6,
   "metadata": {},
   "outputs": [
    {
     "data": {
      "text/plain": [
       "array([[1.48112676e+02, 5.74821053e+01, 3.07735602e+00, 8.40819113e+03],\n",
       "       [1.48112676e+02, 2.20000000e+01, 7.00000000e-01, 1.23000000e+04],\n",
       "       [9.90000000e+01, 2.30000000e+01, 6.00000000e-01, 8.40819113e+03],\n",
       "       ...,\n",
       "       [1.10000000e+02, 1.15000000e+02, 6.00000000e+00, 9.20000000e+03],\n",
       "       [2.07000000e+02, 8.00000000e+01, 6.80000000e+00, 8.40819113e+03],\n",
       "       [1.00000000e+02, 4.90000000e+01, 1.00000000e+00, 8.50000000e+03]])"
      ]
     },
     "execution_count": 6,
     "metadata": {},
     "output_type": "execute_result"
    }
   ],
   "source": [
    "kbest,selected_columns=selectkbest(indep_x,dep_y,4)       \n",
    "\n",
    "acclog=[]\n",
    "accsvml=[]\n",
    "accsvmnl=[]\n",
    "accknn=[]\n",
    "accnav=[]\n",
    "accdes=[]\n",
    "accrf=[]\n",
    "\n",
    "kbest"
   ]
  },
  {
   "cell_type": "code",
   "execution_count": 7,
   "metadata": {},
   "outputs": [],
   "source": [
    "X_train, X_test, y_train, y_test=split_scalar(kbest,dep_y)   \n",
    "           \n",
    "classifier,Accuracy,report,X_test,y_test,cm=logistic(X_train,y_train,X_test)\n",
    "acclog.append(Accuracy)\n",
    "\n",
    "classifier,Accuracy,report,X_test,y_test,cm=svm_linear(X_train,y_train,X_test)  \n",
    "accsvml.append(Accuracy)\n",
    "    \n",
    "classifier,Accuracy,report,X_test,y_test,cm=svm_NL(X_train,y_train,X_test)  \n",
    "accsvmnl.append(Accuracy)\n",
    "    \n",
    "classifier,Accuracy,report,X_test,y_test,cm=knn(X_train,y_train,X_test)  \n",
    "accknn.append(Accuracy)\n",
    "    \n",
    "classifier,Accuracy,report,X_test,y_test,cm=Navie(X_train,y_train,X_test)  \n",
    "accnav.append(Accuracy)\n",
    "    \n",
    "classifier,Accuracy,report,X_test,y_test,cm=Decision(X_train,y_train,X_test)  \n",
    "accdes.append(Accuracy)\n",
    "    \n",
    "classifier,Accuracy,report,X_test,y_test,cm=random(X_train,y_train,X_test)  \n",
    "accrf.append(Accuracy)\n",
    "    \n",
    "result=selectk_Classification(acclog,accsvml,accsvmnl,accknn,accnav,accdes,accrf)"
   ]
  },
  {
   "cell_type": "code",
   "execution_count": 8,
   "metadata": {},
   "outputs": [
    {
     "name": "stdout",
     "output_type": "stream",
     "text": [
      "Selected Columns for Feature Selection: Index(['bgr', 'bu', 'sc', 'wc'], dtype='object')\n"
     ]
    },
    {
     "data": {
      "text/html": [
       "<div>\n",
       "<style scoped>\n",
       "    .dataframe tbody tr th:only-of-type {\n",
       "        vertical-align: middle;\n",
       "    }\n",
       "\n",
       "    .dataframe tbody tr th {\n",
       "        vertical-align: top;\n",
       "    }\n",
       "\n",
       "    .dataframe thead th {\n",
       "        text-align: right;\n",
       "    }\n",
       "</style>\n",
       "<table border=\"1\" class=\"dataframe\">\n",
       "  <thead>\n",
       "    <tr style=\"text-align: right;\">\n",
       "      <th></th>\n",
       "      <th>Logistic</th>\n",
       "      <th>SVMl</th>\n",
       "      <th>SVMnl</th>\n",
       "      <th>KNN</th>\n",
       "      <th>Navie</th>\n",
       "      <th>Decision</th>\n",
       "      <th>Random</th>\n",
       "    </tr>\n",
       "  </thead>\n",
       "  <tbody>\n",
       "    <tr>\n",
       "      <th>ChiSquare</th>\n",
       "      <td>0.85</td>\n",
       "      <td>0.82</td>\n",
       "      <td>0.83</td>\n",
       "      <td>0.86</td>\n",
       "      <td>0.79</td>\n",
       "      <td>0.89</td>\n",
       "      <td>0.89</td>\n",
       "    </tr>\n",
       "  </tbody>\n",
       "</table>\n",
       "</div>"
      ],
      "text/plain": [
       "          Logistic  SVMl SVMnl   KNN Navie Decision Random\n",
       "ChiSquare     0.85  0.82  0.83  0.86  0.79     0.89   0.89"
      ]
     },
     "execution_count": 8,
     "metadata": {},
     "output_type": "execute_result"
    }
   ],
   "source": [
    "# Print the selected columns\n",
    "print(\"Selected Columns for Feature Selection:\", selected_columns)\n",
    "result"
   ]
  },
  {
   "cell_type": "code",
   "execution_count": 10,
   "metadata": {},
   "outputs": [
    {
     "name": "stdout",
     "output_type": "stream",
     "text": [
      "Confusion Matrix:\n",
      " [[33  3]\n",
      " [ 8 56]]\n",
      "\n",
      "Accuracy: 0.89\n",
      "\n",
      "Classification Report:\n",
      "               precision    recall  f1-score   support\n",
      "\n",
      "           0       0.80      0.92      0.86        36\n",
      "           1       0.95      0.88      0.91        64\n",
      "\n",
      "    accuracy                           0.89       100\n",
      "   macro avg       0.88      0.90      0.88       100\n",
      "weighted avg       0.90      0.89      0.89       100\n",
      "\n"
     ]
    }
   ],
   "source": [
    "# Subset the dataset with selected columns\n",
    "X_selected = indep_x[selected_columns]\n",
    "\n",
    "# Split the selected data into training and test sets\n",
    "X_train_selected, X_test_selected, y_train, y_test = train_test_split(X_selected, dep_y, test_size=0.25, random_state=0)\n",
    "\n",
    "# Scale the selected features\n",
    "scaler = StandardScaler()\n",
    "X_train_selected = scaler.fit_transform(X_train_selected)\n",
    "X_test_selected = scaler.transform(X_test_selected)\n",
    "\n",
    "# Train RandomForestClassifier using selected columns\n",
    "from sklearn.metrics import confusion_matrix, classification_report, accuracy_score\n",
    "classifier = RandomForestClassifier(n_estimators=10, criterion='entropy', random_state=0)\n",
    "classifier.fit(X_train_selected, y_train)\n",
    "\n",
    "# Function to predict and calculate metrics\n",
    "def cm_prediction(classifier, X_test, y_test):\n",
    "    y_pred = classifier.predict(X_test)\n",
    "    cm = confusion_matrix(y_test, y_pred)\n",
    "    Accuracy = accuracy_score(y_test, y_pred)\n",
    "    report = classification_report(y_test, y_pred)\n",
    "    return classifier, Accuracy, report, X_test, y_test, cm\n",
    "\n",
    "# Predict and evaluate the model\n",
    "classifier, Accuracy, report, X_test_selected, y_test, cm = cm_prediction(classifier, X_test_selected, y_test)\n",
    "\n",
    "# Print results\n",
    "print(\"Confusion Matrix:\\n\", cm)\n",
    "print(\"\\nAccuracy:\", Accuracy)\n",
    "print(\"\\nClassification Report:\\n\", report)\n"
   ]
  }
 ],
 "metadata": {
  "kernelspec": {
   "display_name": "Python 3",
   "language": "python",
   "name": "python3"
  },
  "language_info": {
   "codemirror_mode": {
    "name": "ipython",
    "version": 3
   },
   "file_extension": ".py",
   "mimetype": "text/x-python",
   "name": "python",
   "nbconvert_exporter": "python",
   "pygments_lexer": "ipython3",
   "version": "3.11.9"
  }
 },
 "nbformat": 4,
 "nbformat_minor": 2
}
