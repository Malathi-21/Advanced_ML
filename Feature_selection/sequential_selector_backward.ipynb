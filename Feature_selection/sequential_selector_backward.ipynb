{
 "cells": [
  {
   "cell_type": "code",
   "execution_count": 1,
   "metadata": {},
   "outputs": [],
   "source": [
    "from sklearn.model_selection import train_test_split\n",
    "from sklearn.neighbors import KNeighborsClassifier\n",
    "from sklearn.feature_selection import SequentialFeatureSelector\n",
    "from sklearn.svm import SVC\n",
    "from sklearn.ensemble import RandomForestClassifier\n",
    "from sklearn.tree import DecisionTreeClassifier\n",
    "from sklearn.linear_model import LogisticRegression\n",
    "import pandas as pd\n",
    "import warnings"
   ]
  },
  {
   "cell_type": "code",
   "execution_count": 2,
   "metadata": {},
   "outputs": [],
   "source": [
    "# Load and preprocess the dataset\n",
    "dataset1 = pd.read_csv(\"prep.csv\", index_col=None)\n",
    "df2 = dataset1\n",
    "df2 = pd.get_dummies(df2, dtype=int, drop_first=True)\n",
    "\n",
    "# Split independent and dependent variables\n",
    "indep_x = df2.drop('classification_yes', axis=1)\n",
    "dep_y = df2['classification_yes']\n",
    "\n",
    "# Split the dataset into training and testing sets\n",
    "X_train, X_test, y_train, y_test = train_test_split(indep_x, dep_y, test_size=0.3, random_state=42)"
   ]
  },
  {
   "cell_type": "code",
   "execution_count": 3,
   "metadata": {},
   "outputs": [],
   "source": [
    "# Initialize classifiers\n",
    "classifiers = {\n",
    "    'KNN': KNeighborsClassifier(n_neighbors=3),\n",
    "    #'SVM': SVC(kernel='linear', random_state=42),\n",
    "    #'Random': RandomForestClassifier(random_state=42),\n",
    "    'Decision': DecisionTreeClassifier(random_state=42),\n",
    "    'Logistic Regression': LogisticRegression(random_state=42)\n",
    "}"
   ]
  },
  {
   "cell_type": "code",
   "execution_count": 4,
   "metadata": {},
   "outputs": [
    {
     "name": "stdout",
     "output_type": "stream",
     "text": [
      "\n",
      "KNN Selected Features:\n",
      "Index(['al', 'hrmo'], dtype='object')\n",
      "\n",
      "Decision Selected Features:\n",
      "Index(['al', 'hrmo'], dtype='object')\n",
      "\n",
      "Logistic Regression Selected Features:\n",
      "Index(['al', 'hrmo'], dtype='object')\n",
      "\n",
      "Summary of Model Accuracies:\n",
      "                     Sequential backward Selection\n",
      "KNN                                       0.933333\n",
      "Decision                                  0.941667\n",
      "Logistic Regression                       0.925000\n"
     ]
    }
   ],
   "source": [
    "warnings.filterwarnings(\"ignore\")\n",
    "# Dictionary to store results\n",
    "results = {'Sequential backward Selection': {}}\n",
    "\n",
    "# Perform feature selection and evaluation for each classifier\n",
    "for name, clf in classifiers.items():\n",
    "    # Initialize Sequential Feature Selector\n",
    "    sfs = SequentialFeatureSelector(clf, n_features_to_select=2, direction='backward')\n",
    "    \n",
    "    # Fit SFS to the training data\n",
    "    sfs.fit(X_train, y_train)\n",
    "    \n",
    "    # Get the selected features\n",
    "    selected_features = X_train.columns[sfs.get_support()]\n",
    "    print(f\"\\n{name} Selected Features:\")\n",
    "    print(selected_features)\n",
    "    \n",
    "    # Fit the model with the selected features\n",
    "    clf.fit(X_train[selected_features], y_train)\n",
    "    \n",
    "    # Evaluate the model\n",
    "    accuracy = clf.score(X_test[selected_features], y_test)\n",
    "    \n",
    "    # Store the accuracy in the results dictionary\n",
    "    results['Sequential backward Selection'][name] = accuracy\n",
    "\n",
    "# Convert results dictionary to DataFrame\n",
    "results_df = pd.DataFrame.from_dict(results)\n",
    "\n",
    "# Display the results DataFrame\n",
    "print(\"\\nSummary of Model Accuracies:\")\n",
    "print(results_df)\n"
   ]
  }
 ],
 "metadata": {
  "kernelspec": {
   "display_name": "Python 3",
   "language": "python",
   "name": "python3"
  },
  "language_info": {
   "codemirror_mode": {
    "name": "ipython",
    "version": 3
   },
   "file_extension": ".py",
   "mimetype": "text/x-python",
   "name": "python",
   "nbconvert_exporter": "python",
   "pygments_lexer": "ipython3",
   "version": "3.11.9"
  }
 },
 "nbformat": 4,
 "nbformat_minor": 2
}
