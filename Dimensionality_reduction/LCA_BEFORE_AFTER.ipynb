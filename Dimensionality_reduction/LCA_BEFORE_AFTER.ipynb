{
 "cells": [
  {
   "cell_type": "code",
   "execution_count": 1,
   "metadata": {},
   "outputs": [],
   "source": [
    "import pandas as pd\n",
    "from sklearn.model_selection import train_test_split\n",
    "import time\n",
    "import numpy as np\n",
    "from sklearn.preprocessing import StandardScaler\n",
    "from sklearn.discriminant_analysis import LinearDiscriminantAnalysis as LDA\n",
    "from sklearn.linear_model import LogisticRegression\n",
    "import pickle\n",
    "import matplotlib.pyplot as plt\n",
    "from sklearn.neighbors import KNeighborsClassifier\n",
    "from sklearn.feature_selection import SequentialFeatureSelector\n",
    "from sklearn.ensemble import RandomForestClassifier\n",
    "from sklearn.naive_bayes import GaussianNB\n",
    "from sklearn.svm import SVC\n",
    "from sklearn.tree import DecisionTreeClassifier\n",
    "\n",
    "from tabulate import tabulate\n",
    "import warnings"
   ]
  },
  {
   "cell_type": "code",
   "execution_count": 2,
   "metadata": {},
   "outputs": [],
   "source": [
    "# Importing the dataset\n",
    "dataset1=pd.read_csv(\"Wine.csv\",index_col=None)\n",
    "\n",
    "df2=dataset1\n",
    "\n",
    "df2 = pd.get_dummies(df2,dtype=int,drop_first=True)\n",
    "\n",
    "indep_x = df2.iloc[:, 0:13].values\n",
    "dep_y= df2.iloc[:, 13].values"
   ]
  },
  {
   "cell_type": "code",
   "execution_count": 3,
   "metadata": {},
   "outputs": [],
   "source": [
    "# Split the dataset into training and testing sets\n",
    "X_train, X_test, y_train, y_test = train_test_split(indep_x, dep_y, test_size=0.3, random_state=42)"
   ]
  },
  {
   "cell_type": "code",
   "execution_count": 4,
   "metadata": {},
   "outputs": [],
   "source": [
    "scaler = StandardScaler()\n",
    "X_train_scaled = scaler.fit_transform(X_train)\n",
    "X_test_scaled = scaler.transform(X_test)"
   ]
  },
  {
   "cell_type": "code",
   "execution_count": 5,
   "metadata": {},
   "outputs": [],
   "source": [
    "# Initialize classifiers\n",
    "classifiers = {\n",
    "    'KNN': KNeighborsClassifier(n_neighbors=3),\n",
    "    'Random Forest': RandomForestClassifier(random_state=42),\n",
    "    'SVM': SVC(kernel='linear', random_state=42),\n",
    "    'SVMNL': SVC(kernel = 'rbf', random_state = 0),\n",
    "    'NAVIE' : GaussianNB(),\n",
    "    'Decision Tree': DecisionTreeClassifier(random_state=42),\n",
    "    'Logistic Regression': LogisticRegression(random_state=42)\n",
    "}\n"
   ]
  },
  {
   "cell_type": "code",
   "execution_count": 16,
   "metadata": {},
   "outputs": [
    {
     "name": "stdout",
     "output_type": "stream",
     "text": [
      "\n",
      "Summary of Model Accuracies with LCA Components:\n",
      "+---------------------+----------------------+--------------------+--------------------+-------------------+----------------+\n",
      "|        Model        | Without LCA Accuracy | With LCA Accuracy  | Before LCA Columns | After LCA Columns | LCA Components |\n",
      "+---------------------+----------------------+--------------------+--------------------+-------------------+----------------+\n",
      "|         KNN         |  0.9629629629629629  | 0.9814814814814815 |         13         |         2         |   LDA1, LDA2   |\n",
      "|    Random Forest    |         1.0          | 0.9814814814814815 |         13         |         2         |   LDA1, LDA2   |\n",
      "|         SVM         |  0.9814814814814815  | 0.9814814814814815 |         13         |         2         |   LDA1, LDA2   |\n",
      "|        SVMNL        |  0.9814814814814815  | 0.9814814814814815 |         13         |         2         |   LDA1, LDA2   |\n",
      "|        NAVIE        |         1.0          |        1.0         |         13         |         2         |   LDA1, LDA2   |\n",
      "|    Decision Tree    |  0.9629629629629629  | 0.9814814814814815 |         13         |         2         |   LDA1, LDA2   |\n",
      "| Logistic Regression |  0.9814814814814815  | 0.9814814814814815 |         13         |         2         |   LDA1, LDA2   |\n",
      "+---------------------+----------------------+--------------------+--------------------+-------------------+----------------+\n"
     ]
    }
   ],
   "source": [
    "# Initialize dictionary to store results\n",
    "results = {'Model': [], 'Without LCA Accuracy': [], 'With LCA Accuracy': [], 'Before LCA Columns': [], 'After LCA Columns': [], 'LCA Components': []}\n",
    "\n",
    "# Perform feature selection and evaluation for each classifier\n",
    "for name, clf in classifiers.items():\n",
    "    # Fit the LDA model\n",
    "    lda = LDA(n_components=2)\n",
    "    X_train_lca = lda.fit_transform(X_train_scaled, y_train)\n",
    "    X_test_lca = lda.transform(X_test_scaled)\n",
    "\n",
    "    # Get the selected components\n",
    "    selected_comp = [f'LDA{i+1}' for i in range(lda.n_components)]\n",
    "    \n",
    "    # Store LDA components and dimensions in the results\n",
    "    results['Model'].append(name)\n",
    "    results['LCA Components'].append(', '.join(selected_comp))\n",
    "    results['Before LCA Columns'].append(X_train_scaled.shape[1])\n",
    "    results['After LCA Columns'].append(X_train_lca.shape[1])\n",
    "\n",
    "    # Train and evaluate the model without LCA\n",
    "    clf.fit(X_train_scaled, y_train)\n",
    "    accuracy_before_lca = clf.score(X_test_scaled, y_test)\n",
    "    results['Without LCA Accuracy'].append(accuracy_before_lca)\n",
    "\n",
    "    # Train and evaluate the model with LCA\n",
    "    clf.fit(X_train_lca, y_train)\n",
    "    accuracy_after_lca = clf.score(X_test_lca, y_test)\n",
    "    results['With LCA Accuracy'].append(accuracy_after_lca)\n",
    "\n",
    "# Convert the results dictionary to a DataFrame\n",
    "results_df = pd.DataFrame(results)\n",
    "\n",
    "# Display the results in a nice table format using tabulate\n",
    "print(\"\\nSummary of Model Accuracies with LCA Components:\")\n",
    "print(tabulate(results_df, headers='keys', tablefmt='pretty', showindex=False))"
   ]
  },
  {
   "cell_type": "code",
   "execution_count": null,
   "metadata": {},
   "outputs": [],
   "source": []
  }
 ],
 "metadata": {
  "kernelspec": {
   "display_name": "Python 3",
   "language": "python",
   "name": "python3"
  },
  "language_info": {
   "codemirror_mode": {
    "name": "ipython",
    "version": 3
   },
   "file_extension": ".py",
   "mimetype": "text/x-python",
   "name": "python",
   "nbconvert_exporter": "python",
   "pygments_lexer": "ipython3",
   "version": "3.11.9"
  }
 },
 "nbformat": 4,
 "nbformat_minor": 2
}
