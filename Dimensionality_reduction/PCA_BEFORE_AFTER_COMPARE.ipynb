{
 "cells": [
  {
   "cell_type": "code",
   "execution_count": 1,
   "metadata": {},
   "outputs": [],
   "source": [
    "import pandas as pd\n",
    "from sklearn.model_selection import train_test_split\n",
    "import time\n",
    "import numpy as np\n",
    "from sklearn.preprocessing import StandardScaler\n",
    "from sklearn.decomposition import PCA\n",
    "from sklearn.linear_model import LogisticRegression\n",
    "import pickle\n",
    "import matplotlib.pyplot as plt\n",
    "from sklearn.neighbors import KNeighborsClassifier\n",
    "from sklearn.feature_selection import SequentialFeatureSelector\n",
    "from sklearn.ensemble import RandomForestClassifier\n",
    "from sklearn.naive_bayes import GaussianNB\n",
    "from sklearn.svm import SVC\n",
    "from sklearn.tree import DecisionTreeClassifier\n",
    "\n",
    "from tabulate import tabulate\n",
    "import warnings"
   ]
  },
  {
   "cell_type": "code",
   "execution_count": 2,
   "metadata": {},
   "outputs": [],
   "source": [
    "# Importing the dataset\n",
    "dataset1=pd.read_csv(\"Wine.csv\",index_col=None)\n",
    "\n",
    "df2=dataset1\n",
    "\n",
    "df2 = pd.get_dummies(df2,dtype=int,drop_first=True)\n",
    "\n",
    "indep_x = df2.iloc[:, 0:13].values\n",
    "dep_y= df2.iloc[:, 13].values"
   ]
  },
  {
   "cell_type": "code",
   "execution_count": 3,
   "metadata": {},
   "outputs": [],
   "source": [
    "# Split the dataset into training and testing sets\n",
    "X_train, X_test, y_train, y_test = train_test_split(indep_x, dep_y, test_size=0.3, random_state=42)"
   ]
  },
  {
   "cell_type": "code",
   "execution_count": 4,
   "metadata": {},
   "outputs": [],
   "source": [
    "scaler = StandardScaler()\n",
    "X_train_scaled = scaler.fit_transform(X_train)\n",
    "X_test_scaled = scaler.transform(X_test)"
   ]
  },
  {
   "cell_type": "code",
   "execution_count": 5,
   "metadata": {},
   "outputs": [],
   "source": [
    "# Initialize classifiers\n",
    "classifiers = {\n",
    "    'KNN': KNeighborsClassifier(n_neighbors=3),\n",
    "    'Random Forest': RandomForestClassifier(random_state=42),\n",
    "    'SVM': SVC(kernel='linear', random_state=42),\n",
    "    'SVMNL': SVC(kernel = 'rbf', random_state = 0),\n",
    "    'NAVIE' : GaussianNB(),\n",
    "    'Decision Tree': DecisionTreeClassifier(random_state=42),\n",
    "    'Logistic Regression': LogisticRegression(random_state=42)\n",
    "}\n"
   ]
  },
  {
   "cell_type": "code",
   "execution_count": 6,
   "metadata": {},
   "outputs": [
    {
     "name": "stdout",
     "output_type": "stream",
     "text": [
      "\n",
      "Summary of Model Accuracies with PCA Components:\n",
      "+---------------------+----------------------+--------------------+--------------------+-------------------+-------------------------+----------------------------------------+\n",
      "|        Model        | Without PCA Accuracy | With PCA Accuracy  | Before PCA Columns | After PCA Columns |     PCA Components      |                EXP VAR                 |\n",
      "+---------------------+----------------------+--------------------+--------------------+-------------------+-------------------------+----------------------------------------+\n",
      "|         KNN         |  0.9629629629629629  | 0.9629629629629629 |         13         |         5         | PC1, PC2, PC3, PC4, PC5 | 0.3620, 0.1876, 0.1166, 0.0758, 0.0704 |\n",
      "|    Random Forest    |         1.0          | 0.9629629629629629 |         13         |         5         | PC1, PC2, PC3, PC4, PC5 | 0.3620, 0.1876, 0.1166, 0.0758, 0.0704 |\n",
      "|         SVM         |  0.9814814814814815  | 0.9814814814814815 |         13         |         5         | PC1, PC2, PC3, PC4, PC5 | 0.3620, 0.1876, 0.1166, 0.0758, 0.0704 |\n",
      "|        SVMNL        |  0.9814814814814815  |        1.0         |         13         |         5         | PC1, PC2, PC3, PC4, PC5 | 0.3620, 0.1876, 0.1166, 0.0758, 0.0704 |\n",
      "|        NAVIE        |         1.0          |        1.0         |         13         |         5         | PC1, PC2, PC3, PC4, PC5 | 0.3620, 0.1876, 0.1166, 0.0758, 0.0704 |\n",
      "|    Decision Tree    |  0.9629629629629629  | 0.9444444444444444 |         13         |         5         | PC1, PC2, PC3, PC4, PC5 | 0.3620, 0.1876, 0.1166, 0.0758, 0.0704 |\n",
      "| Logistic Regression |  0.9814814814814815  | 0.9814814814814815 |         13         |         5         | PC1, PC2, PC3, PC4, PC5 | 0.3620, 0.1876, 0.1166, 0.0758, 0.0704 |\n",
      "+---------------------+----------------------+--------------------+--------------------+-------------------+-------------------------+----------------------------------------+\n"
     ]
    }
   ],
   "source": [
    "# Initialize dictionary to store results\n",
    "results = {'Model': [], 'Without PCA Accuracy': [], 'With PCA Accuracy': [], 'Before PCA Columns': [], 'After PCA Columns': [], 'PCA Components': [], 'EXP VAR' :[]}\n",
    "\n",
    "# Perform feature selection and evaluation for each classifier\n",
    "for name, clf in classifiers.items():\n",
    "    # Fit the PCA model\n",
    "    pca = PCA(n_components=5)\n",
    "    X_train_pca = pca.fit_transform(X_train_scaled)  # Apply PCA on the training data\n",
    "    X_test_pca = pca.transform(X_test_scaled)        # Apply PCA on the test data\n",
    "    explained_variance = pca.explained_variance_ratio_\n",
    "    \n",
    "    # Get the selected components\n",
    "    selected_comp = [f'PC{i+1}' for i in range(pca.n_components_)]\n",
    "    \n",
    "    # Store PCA components in the results\n",
    "    results['Model'].append(name)\n",
    "    results['PCA Components'].append(', '.join(selected_comp))  # Join the components as a string\n",
    "    results['Before PCA Columns'].append(X_train_scaled.shape[1])  # Number of columns before PCA (13)\n",
    "    results['After PCA Columns'].append(X_train_pca.shape[1])  # Number of columns after PCA (5)\n",
    "    results['EXP VAR'].append(', '.join([f'{var:.4f}' for var in explained_variance]))  # Format each value\n",
    "    \n",
    "    # Train and evaluate the model without PCA (on original data)\n",
    "    clf.fit(X_train_scaled, y_train)\n",
    "    accuracy_before_pca = clf.score(X_test_scaled, y_test)  # Evaluate on the test set with 13 features\n",
    "    \n",
    "    # Train and evaluate the model with PCA (on transformed data)\n",
    "    clf.fit(X_train_pca, y_train)\n",
    "    accuracy_after_pca = clf.score(X_test_pca, y_test)  # Evaluate on the test set with 5 features\n",
    "    \n",
    "    # Store accuracies in the results\n",
    "    results['Without PCA Accuracy'].append(accuracy_before_pca)\n",
    "    results['With PCA Accuracy'].append(accuracy_after_pca)\n",
    "\n",
    "# Convert the results dictionary to a DataFrame\n",
    "results_df = pd.DataFrame(results)\n",
    "\n",
    "# Display the results in a nice table format using tabulate\n",
    "print(\"\\nSummary of Model Accuracies with PCA Components:\")\n",
    "print(tabulate(results_df, headers='keys', tablefmt='pretty', showindex=False))\n"
   ]
  }
 ],
 "metadata": {
  "kernelspec": {
   "display_name": "Python 3",
   "language": "python",
   "name": "python3"
  },
  "language_info": {
   "codemirror_mode": {
    "name": "ipython",
    "version": 3
   },
   "file_extension": ".py",
   "mimetype": "text/x-python",
   "name": "python",
   "nbconvert_exporter": "python",
   "pygments_lexer": "ipython3",
   "version": "3.11.9"
  }
 },
 "nbformat": 4,
 "nbformat_minor": 2
}
